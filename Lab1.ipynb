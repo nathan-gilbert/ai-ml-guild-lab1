{
 "cells": [
  {
   "cell_type": "markdown",
   "metadata": {},
   "source": [
    "# Sentiment Analysis with Python & Naive-Bayes\n",
    "\n",
    "## Typical Supervised ML Workflow\n",
    "\n",
    "1. Acquire Data\n",
    "2. Preprocess / Clean Data\n",
    "3. Build a feature set\n",
    "4. Build a trained model from training data and feature set\n",
    "5. Apply the model to test data\n",
    "6. Score the results of the trained model\n",
    "7. Revise hypothesis, train & test again until you reach acceptable performance\n",
    "   or until your PhD funding runs out...\n",
    "\n",
    "## Background\n",
    "\n",
    "Sentiment Analysis is a NLP technique for determining the opinion polarity for\n",
    "a given text.\n",
    "\n",
    "Let's apply this technique move reviews!\n",
    "\n",
    "### What is the task?\n",
    "\n",
    "For the following two reviews we'd expect to receive the two subsequent \"labels\"\n",
    " of their sentiment.\n",
    "\n",
    "| Review  \t                        | Label |\n",
    "|---\t                            |---\t|\n",
    "| \"I love this movie!\"   \t        | `pos`\t|\n",
    "| \"This movie really stinks :-(\"  \t| `neg`\t|\n",
    "\n",
    "## Building a Naive-Bayes Sentiment Classifier\n",
    "\n",
    "### Acquire & Preprocess the data set\n",
    "\n",
    "A common dataset for training sentiment analysis algorithms\n",
    "is the IMDB movie review dataset. It contains thousands of\n",
    "movie reviews along with their sentiment polarity labeling (i.e., pos/neg.)"
   ]
  },
  {
   "cell_type": "code",
   "execution_count": 21,
   "metadata": {
    "pycharm": {
     "name": "#%%\n"
    }
   },
   "outputs": [
    {
     "name": "stdout",
     "output_type": "stream",
     "text": [
      "[['plot', ':', 'two', 'teen', 'couples', 'go', 'to', 'a', 'church', 'party', ',', 'drink', 'and', 'then', 'drive', '.'], ['they', 'get', 'into', 'an', 'accident', '.'], ...]\n"
     ]
    }
   ],
   "source": [
    "from nltk.corpus import movie_reviews\n",
    "\n",
    "negative_ids = movie_reviews.fileids('neg')\n",
    "positive_ids = movie_reviews.fileids('pos')\n",
    "\n",
    "print(movie_reviews.sents(negative_ids[0]))"
   ]
  },
  {
   "cell_type": "markdown",
   "metadata": {},
   "source": [
    "### Build a feature set\n",
    "\n",
    "Let's define a function to create our `features`. Features\n",
    "are names given to data that can be used in a learning algorithm.\n",
    "Features can be different types dependent on the algorithm being\n",
    "used, but typically are binary or float values. Therefore, a\n",
    "transform is necessary to convert our textual data into numerical\n",
    "data."
   ]
  },
  {
   "cell_type": "code",
   "execution_count": 22,
   "metadata": {
    "pycharm": {
     "name": "#%%\n"
    }
   },
   "outputs": [
    {
     "name": "stdout",
     "output_type": "stream",
     "text": [
      "{'nlp': True, 'pretti': True, 'fun': True}\n"
     ]
    }
   ],
   "source": [
    "from typing import List, Dict\n",
    "from nltk.corpus import stopwords\n",
    "stop_words = set(stopwords.words('english'))\n",
    "\n",
    "from nltk.stem import PorterStemmer\n",
    "ps = PorterStemmer()\n",
    "\n",
    "\n",
    "def words_to_features(words: List[str]) -> Dict[str, bool]:\n",
    "\n",
    "    # remove common, low information words: a, an, the, etc\n",
    "    filtered_words = filter(lambda x: x not in stop_words, words)\n",
    "\n",
    "    # \"Stemming\" the words means removing tense modifiers or\n",
    "    # other inflections dow to their base word.  Typically,\n",
    "    # this means:\n",
    "    #   * if the word ends in 'ed', remove the 'ed'\n",
    "    #   * if the word ends in 'ing', remove the 'ing'\n",
    "    #   * if the word ends in 'ly', remove the 'ly'\n",
    "    # This is a noisy process, but it helps increase your observations of words\n",
    "    stemmed_words = list(map(lambda x: ps.stem(x), filtered_words))\n",
    "\n",
    "    # Finally, represent words as a boolean, a true value indicates the word\n",
    "    # appeared in a review.\n",
    "    word_mapping = [(word, True) for word in stemmed_words]\n",
    "    return dict(word_mapping)\n",
    "\n",
    "print(words_to_features([\"NLP\", \"is\", \"pretty\", \"fun\"]))"
   ]
  },
  {
   "cell_type": "markdown",
   "metadata": {},
   "source": [
    "Here, we did a simple transformation of text data to boolean.\n",
    "Now, actually create the positive and negative `features`"
   ]
  },
  {
   "cell_type": "code",
   "execution_count": 24,
   "metadata": {
    "pycharm": {
     "name": "#%%\n"
    },
    "tags": []
   },
   "outputs": [
    {
     "name": "stdout",
     "output_type": "stream",
     "text": [
      "({'plot': True, ':': True, 'two': True, 'teen': True, 'coupl': True, 'go': True, 'church': True, 'parti': True, ',': True, 'drink': True, 'drive': True, '.': True, 'get': True, 'accid': True, 'one': True, 'guy': True, 'die': True, 'girlfriend': True, 'continu': True, 'see': True, 'life': True, 'nightmar': True, \"'\": True, 'deal': True, '?': True, 'watch': True, 'movi': True, '\"': True, 'sorta': True, 'find': True, 'critiqu': True, 'mind': True, '-': True, 'fuck': True, 'gener': True, 'touch': True, 'cool': True, 'idea': True, 'present': True, 'bad': True, 'packag': True, 'make': True, 'review': True, 'even': True, 'harder': True, 'write': True, 'sinc': True, 'applaud': True, 'film': True, 'attempt': True, 'break': True, 'mold': True, 'mess': True, 'head': True, '(': True, 'lost': True, 'highway': True, '&': True, 'memento': True, ')': True, 'good': True, 'way': True, 'type': True, 'folk': True, 'snag': True, 'correctli': True, 'seem': True, 'taken': True, 'pretti': True, 'neat': True, 'concept': True, 'execut': True, 'terribl': True, 'problem': True, 'well': True, 'main': True, 'simpli': True, 'jumbl': True, 'start': True, 'normal': True, 'downshift': True, 'fantasi': True, 'world': True, 'audienc': True, 'member': True, 'dream': True, 'charact': True, 'come': True, 'back': True, 'dead': True, 'other': True, 'look': True, 'like': True, 'strang': True, 'apparit': True, 'disappear': True, 'looooot': True, 'chase': True, 'scene': True, 'ton': True, 'weird': True, 'thing': True, 'happen': True, 'explain': True, 'person': True, 'tri': True, 'unravel': True, 'everi': True, 'give': True, 'clue': True, 'kind': True, 'fed': True, 'biggest': True, 'obvious': True, 'got': True, 'big': True, 'secret': True, 'hide': True, 'want': True, 'complet': True, 'final': True, 'five': True, 'minut': True, 'entertain': True, 'thrill': True, 'engag': True, 'meantim': True, 'realli': True, 'sad': True, 'part': True, 'arrow': True, 'dig': True, 'flick': True, 'actual': True, 'figur': True, 'half': True, 'point': True, 'littl': True, 'bit': True, 'sens': True, 'still': True, 'guess': True, 'bottom': True, 'line': True, 'alway': True, 'sure': True, 'given': True, 'password': True, 'enter': True, 'understand': True, 'mean': True, 'show': True, 'melissa': True, 'sagemil': True, 'run': True, 'away': True, 'vision': True, '20': True, 'throughout': True, 'plain': True, 'lazi': True, '!': True, 'okay': True, 'peopl': True, 'know': True, 'need': True, 'us': True, 'differ': True, 'offer': True, 'insight': True, 'appar': True, 'studio': True, 'took': True, 'director': True, 'chop': True, 'might': True, 'decent': True, 'somewher': True, 'suit': True, 'decid': True, 'turn': True, 'music': True, 'video': True, 'edg': True, 'would': True, 'actor': True, 'although': True, 'we': True, 'bentley': True, 'play': True, 'exact': True, 'american': True, 'beauti': True, 'new': True, 'neighborhood': True, 'kudo': True, 'hold': True, 'entir': True, 'feel': True, 'overal': True, 'stick': True, 'confus': True, 'rare': True, 'excit': True, 'redund': True, 'runtim': True, 'despit': True, 'end': True, 'explan': True, 'crazi': True, 'came': True, 'oh': True, 'horror': True, 'slasher': True, 'someon': True, 'assum': True, 'genr': True, 'hot': True, 'kid': True, 'also': True, 'wrap': True, 'product': True, 'year': True, 'ago': True, 'sit': True, 'shelv': True, 'ever': True, 'whatev': True, 'skip': True, 'joblo': True, 'elm': True, 'street': True, '3': True, '7': True, '/': True, '10': True, 'blair': True, 'witch': True, '2': True, 'crow': True, '9': True, 'salvat': True, '4': True, 'stir': True, 'echo': True, '8': True}, 'neg')\n"
     ]
    }
   ],
   "source": [
    "negative_features = [(words_to_features(movie_reviews.words(fileids=[f])), 'neg') for f in negative_ids]\n",
    "positive_features = [(words_to_features(movie_reviews.words(fileids=[f])), 'pos') for f in positive_ids]\n",
    "print(negative_features[0])"
   ]
  },
  {
   "cell_type": "markdown",
   "metadata": {},
   "source": [
    "This creates two lists of dictionaries, where every dict\n",
    "corresponds to the set of words found in a particular positive or negative\n",
    "document.\n",
    "\n",
    "Next, we need to split our labeled data into training and\n",
    "testing data sets. Why? We want to be able to test how accurate\n",
    "the model we are going to develop is, in order to do that we\n",
    "need labeled data to test on. An 80/20 split is typical.\n",
    "\n",
    "### Split the dataset into training & testing sets"
   ]
  },
  {
   "cell_type": "code",
   "execution_count": 25,
   "metadata": {
    "pycharm": {
     "name": "#%%\n"
    }
   },
   "outputs": [
    {
     "name": "stdout",
     "output_type": "stream",
     "text": [
      "800\n",
      "800\n",
      "train on 1600 instances, test on 400 instances\n"
     ]
    }
   ],
   "source": [
    "neg_cutoff = round(len(negative_features) * 0.80)\n",
    "print(neg_cutoff)\n",
    "pos_cutoff = round(len(positive_features) * 0.80)\n",
    "print(pos_cutoff)\n",
    "training_features = negative_features[:neg_cutoff] + positive_features[:pos_cutoff]\n",
    "testing_features = negative_features[neg_cutoff:] + positive_features[pos_cutoff:]\n",
    "print('train on %d instances, test on %d instances' % (len(training_features), len(testing_features)))"
   ]
  },
  {
   "cell_type": "markdown",
   "metadata": {
    "pycharm": {
     "name": "#%% md\n"
    }
   },
   "source": [
    "## Train a model\n",
    "\n",
    "We're ready to train our model. One of the simplest Machine Learning algorithms is the Naive Bayes Classifier."
   ]
  },
  {
   "cell_type": "code",
   "execution_count": 26,
   "metadata": {
    "pycharm": {
     "name": "#%%\n"
    }
   },
   "outputs": [
    {
     "name": "stdout",
     "output_type": "stream",
     "text": [
      "accuracy: 0.71\n"
     ]
    }
   ],
   "source": [
    "import nltk.classify.util\n",
    "from nltk.classify import NaiveBayesClassifier\n",
    "\n",
    "classifier = NaiveBayesClassifier.train(training_features)\n",
    "print('accuracy:', nltk.classify.util.accuracy(classifier, testing_features))"
   ]
  },
  {
   "cell_type": "markdown",
   "metadata": {},
   "source": [
    "Can we get any sense of how these decisions are being made? What are the most\n",
    "import words for classification?"
   ]
  },
  {
   "cell_type": "code",
   "execution_count": 27,
   "metadata": {
    "pycharm": {
     "name": "#%%\n"
    }
   },
   "outputs": [
    {
     "name": "stdout",
     "output_type": "stream",
     "text": [
      "Most Informative Features\n",
      "                outstand = True              pos : neg    =     13.9 : 1.0\n",
      "                  ludicr = True              neg : pos    =     13.8 : 1.0\n",
      "                uninvolv = True              neg : pos    =     13.0 : 1.0\n",
      "                  themat = True              pos : neg    =     12.3 : 1.0\n",
      "                    plod = True              neg : pos    =     11.0 : 1.0\n",
      "                    anna = True              pos : neg    =     10.3 : 1.0\n",
      "                  darker = True              pos : neg    =     10.3 : 1.0\n",
      "                  seagal = True              neg : pos    =     10.3 : 1.0\n",
      "                  annual = True              pos : neg    =      9.0 : 1.0\n",
      "                    hatr = True              pos : neg    =      9.0 : 1.0\n"
     ]
    }
   ],
   "source": [
    "classifier.show_most_informative_features()"
   ]
  },
  {
   "cell_type": "markdown",
   "metadata": {},
   "source": [
    "Okay, cool. What happens if we test on new data?"
   ]
  },
  {
   "cell_type": "code",
   "execution_count": null,
   "metadata": {
    "pycharm": {
     "name": "#%%\n"
    }
   },
   "outputs": [],
   "source": [
    "test_reviews = [\n",
    "\"\"\"Wow! That's about all one can say about this movie. The first time that I saw\n",
    "it I was mesmerized. The movie looked so cool and hey, it actually had a good\n",
    "plot. If you haven't seen this movie yet, get out from your cave and see it\n",
    "right away. I have seen this movie umpteen times and it still shocks and\n",
    "surprises me.\"\"\",\n",
    "\"\"\"Anyway, back to the movie. It is as bad as you've no doubt heard. The scene\n",
    "changes from night to day to night, the spaceship is a hubcap (you can see the\n",
    "string it hangs from catch on fire at one point), I could do a better job\n",
    "acting, etc. \"\"\"]\n",
    "\n",
    "from nltk.tokenize import word_tokenize\n",
    "\n",
    "for review in test_reviews:\n",
    "    review_features = words_to_features(word_tokenize(review.lower()))\n",
    "    label = classifier.classify(review_features)\n",
    "    prob_results = classifier.prob_classify(review_features)\n",
    "    prob_str = \" ({0:.2}/{1:.2})\".format(prob_results.prob(\"pos\"), prob_results.prob(\"neg\"))\n",
    "    print(review[:25], \": \", label, prob_str)\n"
   ]
  },
  {
   "cell_type": "markdown",
   "metadata": {
    "pycharm": {
     "name": "#%% md\n"
    }
   },
   "source": [
    "### Next steps\n",
    "\n",
    "Ways to improve the features (n-grams, TF-IDF, etc.), better performance with\n",
    "different algorithm?"
   ]
  }
 ],
 "metadata": {
  "kernelspec": {
   "display_name": "Python 3 (ipykernel)",
   "language": "python",
   "name": "python3"
  },
  "language_info": {
   "codemirror_mode": {
    "name": "ipython",
    "version": 3
   },
   "file_extension": ".py",
   "mimetype": "text/x-python",
   "name": "python",
   "nbconvert_exporter": "python",
   "pygments_lexer": "ipython3",
   "version": "3.9.7"
  }
 },
 "nbformat": 4,
 "nbformat_minor": 1
}